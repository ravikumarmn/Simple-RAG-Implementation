{
  "cells": [
    {
      "cell_type": "code",
      "execution_count": 2,
      "metadata": {
        "id": "VN586_54ieaz"
      },
      "outputs": [],
      "source": [
        "# !wget --directory-prefix=/content/data https://raw.githubusercontent.com/ravikumarmn/Simple-RAG-Implementation/main/data/product_details.md"
      ]
    },
    {
      "cell_type": "code",
      "execution_count": null,
      "metadata": {
        "id": "Ea9W3R2vjj_V"
      },
      "outputs": [],
      "source": [
        "!pip install llama_index"
      ]
    },
    {
      "cell_type": "code",
      "execution_count": 3,
      "metadata": {
        "id": "XCxPh7ZZjEeb"
      },
      "outputs": [],
      "source": [
        "import os\n",
        "from llama_index import VectorStoreIndex, SimpleDirectoryReader, StorageContext, ServiceContext, load_index_from_storage\n",
        "from llama_index.llms import OpenAI\n",
        "from llama_index.embeddings import OpenAIEmbedding\n",
        "import openai"
      ]
    },
    {
      "cell_type": "code",
      "execution_count": 5,
      "metadata": {
        "id": "B8jc44gzkVHH"
      },
      "outputs": [],
      "source": [
        "openai.api_key = 'sk-.....' # paste your api key."
      ]
    },
    {
      "cell_type": "code",
      "execution_count": 6,
      "metadata": {
        "id": "tfQiaE7Pkch-"
      },
      "outputs": [],
      "source": [
        "llm = OpenAI(model='gpt-3.5-turbo', temperature=0, max_tokens=256)\n",
        "embed_model = OpenAIEmbedding()"
      ]
    },
    {
      "cell_type": "code",
      "execution_count": 7,
      "metadata": {
        "id": "c6Edr1KWkgkw"
      },
      "outputs": [],
      "source": [
        "PERSIST_DIR = \"./storage/\"\n",
        "if not os.path.exists(PERSIST_DIR):\n",
        "    documents = SimpleDirectoryReader(\"data\").load_data()\n",
        "    service_context = ServiceContext.from_defaults(llm=llm, embed_model=embed_model)\n",
        "    index = VectorStoreIndex.from_documents(documents, service_context=service_context)\n",
        "    index.storage_context.persist(persist_dir=PERSIST_DIR)\n",
        "else:\n",
        "    storage_context = StorageContext.from_defaults(persist_dir=PERSIST_DIR)\n",
        "    index = load_index_from_storage(storage_context)\n",
        "\n",
        "query_engine = index.as_query_engine()"
      ]
    },
    {
      "cell_type": "code",
      "execution_count": 8,
      "metadata": {},
      "outputs": [],
      "source": [
        "def get_response(user_query, query_engine=query_engine):\n",
        "    print(f\"Question: {user_query}\\n\")\n",
        "    response = query_engine.query(user_query)\n",
        "    print(f\"Answer: {response}\\n\")"
      ]
    },
    {
      "cell_type": "code",
      "execution_count": 9,
      "metadata": {
        "id": "FaIVv1ySoSuQ"
      },
      "outputs": [
        {
          "name": "stdout",
          "output_type": "stream",
          "text": [
            "Question: Suggest me the best macbook air under 2000$?\n",
            "\n",
            "Answer: The best MacBook Air under $2000 is the Apple MacBook Pro 2.4GHz Intel Core 2 Duo Silver Notebook Computer - MB470LLA. It has a 2.4GHz Intel Core 2 Duo Processor, 250GB 5400-RPM Serial ATA Hard Drive, 15.4' LED-Backlit Glossy Widescreen Display, Built-In iSight Camera, Built-In AirPort Extreme Wi-Fi And Bluetooth, NVIDIA GeForce 9600M GT Graphics Processor, Dual Display And Video Mirroring, Multi-Touch Trackpad, 85W MagSafe Power Adapter, Mini DisplayPort, Mac OS X v10.5 Leopard, and a Silver Finish.\n",
            "\n"
          ]
        }
      ],
      "source": [
        "get_response(\"Suggest me the best macbook air under 2000$?\")"
      ]
    },
    {
      "cell_type": "code",
      "execution_count": 10,
      "metadata": {
        "id": "TeNWHT2coULP"
      },
      "outputs": [
        {
          "name": "stdout",
          "output_type": "stream",
          "text": [
            "Question: What is the best noise-cancelling headphones available for under $200?\n",
            "\n",
            "Answer: The Bose In-Ear Black Headphones - BOSEIE are the best noise-cancelling headphones available for under $200.\n",
            "\n"
          ]
        }
      ],
      "source": [
        "get_response(\"What is the best noise-cancelling headphones available for under $200?\")"
      ]
    },
    {
      "cell_type": "markdown",
      "metadata": {},
      "source": [
        "For more information, checkout https://ravikumarmn.github.io/blogs/retrieval-augmented-generation-(rag)"
      ]
    },
    {
      "cell_type": "code",
      "execution_count": null,
      "metadata": {
        "id": "AFFJ7NzXs3Fs"
      },
      "outputs": [],
      "source": []
    }
  ],
  "metadata": {
    "colab": {
      "private_outputs": true,
      "provenance": []
    },
    "kernelspec": {
      "display_name": "Python 3",
      "name": "python3"
    },
    "language_info": {
      "codemirror_mode": {
        "name": "ipython",
        "version": 3
      },
      "file_extension": ".py",
      "mimetype": "text/x-python",
      "name": "python",
      "nbconvert_exporter": "python",
      "pygments_lexer": "ipython3",
      "version": "3.11.7"
    }
  },
  "nbformat": 4,
  "nbformat_minor": 0
}
